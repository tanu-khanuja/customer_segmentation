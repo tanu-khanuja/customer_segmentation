{
 "cells": [
  {
   "cell_type": "markdown",
   "metadata": {},
   "source": [
    "### Analysis\n",
    "\n",
    "1. NSW has highest share in all segments because NSW has maximum number of overall customers.\n",
    "2. Victoria has least share in all segments because Victoria has minimum number of overall customers."
   ]
  }
 ],
 "metadata": {
  "language_info": {
   "name": "python"
  }
 },
 "nbformat": 4,
 "nbformat_minor": 2
}
