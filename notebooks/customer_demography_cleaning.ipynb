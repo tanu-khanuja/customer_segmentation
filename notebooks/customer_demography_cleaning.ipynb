{
 "cells": [
  {
   "cell_type": "code",
   "execution_count": 195,
   "metadata": {},
   "outputs": [
    {
     "data": {
      "text/plain": [
       "['Transactions', 'NewCustomerList', 'CustomerDemographic', 'CustomerAddress']"
      ]
     },
     "execution_count": 195,
     "metadata": {},
     "output_type": "execute_result"
    }
   ],
   "source": [
    "import pandas as pd \n",
    "\n",
    "file = pd.ExcelFile('../data/Raw_data.xlsx')\n",
    "file.sheet_names"
   ]
  },
  {
   "cell_type": "code",
   "execution_count": 196,
   "metadata": {},
   "outputs": [
    {
     "data": {
      "text/html": [
       "<div>\n",
       "<style scoped>\n",
       "    .dataframe tbody tr th:only-of-type {\n",
       "        vertical-align: middle;\n",
       "    }\n",
       "\n",
       "    .dataframe tbody tr th {\n",
       "        vertical-align: top;\n",
       "    }\n",
       "\n",
       "    .dataframe thead th {\n",
       "        text-align: right;\n",
       "    }\n",
       "</style>\n",
       "<table border=\"1\" class=\"dataframe\">\n",
       "  <thead>\n",
       "    <tr style=\"text-align: right;\">\n",
       "      <th></th>\n",
       "      <th>customer_id</th>\n",
       "      <th>first_name</th>\n",
       "      <th>last_name</th>\n",
       "      <th>gender</th>\n",
       "      <th>past_3_years_bike_related_purchases</th>\n",
       "      <th>DOB</th>\n",
       "      <th>job_title</th>\n",
       "      <th>job_industry_category</th>\n",
       "      <th>wealth_segment</th>\n",
       "      <th>deceased_indicator</th>\n",
       "      <th>default</th>\n",
       "      <th>owns_car</th>\n",
       "      <th>tenure</th>\n",
       "    </tr>\n",
       "  </thead>\n",
       "  <tbody>\n",
       "    <tr>\n",
       "      <th>0</th>\n",
       "      <td>1</td>\n",
       "      <td>Laraine</td>\n",
       "      <td>Medendorp</td>\n",
       "      <td>F</td>\n",
       "      <td>93</td>\n",
       "      <td>1953-10-12 00:00:00</td>\n",
       "      <td>Executive Secretary</td>\n",
       "      <td>Health</td>\n",
       "      <td>Mass Customer</td>\n",
       "      <td>N</td>\n",
       "      <td>\"'</td>\n",
       "      <td>Yes</td>\n",
       "      <td>11.0</td>\n",
       "    </tr>\n",
       "    <tr>\n",
       "      <th>1</th>\n",
       "      <td>2</td>\n",
       "      <td>Eli</td>\n",
       "      <td>Bockman</td>\n",
       "      <td>Male</td>\n",
       "      <td>81</td>\n",
       "      <td>1980-12-16 00:00:00</td>\n",
       "      <td>Administrative Officer</td>\n",
       "      <td>Financial Services</td>\n",
       "      <td>Mass Customer</td>\n",
       "      <td>N</td>\n",
       "      <td>&lt;script&gt;alert('hi')&lt;/script&gt;</td>\n",
       "      <td>Yes</td>\n",
       "      <td>16.0</td>\n",
       "    </tr>\n",
       "  </tbody>\n",
       "</table>\n",
       "</div>"
      ],
      "text/plain": [
       "   customer_id first_name  last_name gender  \\\n",
       "0            1    Laraine  Medendorp      F   \n",
       "1            2        Eli    Bockman   Male   \n",
       "\n",
       "   past_3_years_bike_related_purchases                  DOB  \\\n",
       "0                                   93  1953-10-12 00:00:00   \n",
       "1                                   81  1980-12-16 00:00:00   \n",
       "\n",
       "                job_title job_industry_category wealth_segment  \\\n",
       "0     Executive Secretary                Health  Mass Customer   \n",
       "1  Administrative Officer    Financial Services  Mass Customer   \n",
       "\n",
       "  deceased_indicator                       default owns_car  tenure  \n",
       "0                  N                            \"'      Yes    11.0  \n",
       "1                  N  <script>alert('hi')</script>      Yes    16.0  "
      ]
     },
     "execution_count": 196,
     "metadata": {},
     "output_type": "execute_result"
    }
   ],
   "source": [
    "cust_demo_data = pd.read_excel('../data/Raw_data.xlsx', sheet_name='CustomerDemographic')\n",
    "cust_demo_data.head(2)"
   ]
  },
  {
   "cell_type": "code",
   "execution_count": 197,
   "metadata": {},
   "outputs": [
    {
     "data": {
      "text/plain": [
       "customer_id                              0\n",
       "first_name                               0\n",
       "last_name                              125\n",
       "gender                                   0\n",
       "past_3_years_bike_related_purchases      0\n",
       "DOB                                     87\n",
       "job_title                              506\n",
       "job_industry_category                  656\n",
       "wealth_segment                           0\n",
       "deceased_indicator                       0\n",
       "default                                302\n",
       "owns_car                                 0\n",
       "tenure                                  87\n",
       "dtype: int64"
      ]
     },
     "execution_count": 197,
     "metadata": {},
     "output_type": "execute_result"
    }
   ],
   "source": [
    "cust_demo_data.isnull().sum()"
   ]
  },
  {
   "cell_type": "code",
   "execution_count": 198,
   "metadata": {},
   "outputs": [
    {
     "data": {
      "text/plain": [
       "customer_id                             0.000\n",
       "first_name                              0.000\n",
       "last_name                               3.125\n",
       "gender                                  0.000\n",
       "past_3_years_bike_related_purchases     0.000\n",
       "DOB                                     2.175\n",
       "job_title                              12.650\n",
       "job_industry_category                  16.400\n",
       "wealth_segment                          0.000\n",
       "deceased_indicator                      0.000\n",
       "default                                 7.550\n",
       "owns_car                                0.000\n",
       "tenure                                  2.175\n",
       "dtype: float64"
      ]
     },
     "execution_count": 198,
     "metadata": {},
     "output_type": "execute_result"
    }
   ],
   "source": [
    "cust_demo_data.isnull().mean()*100"
   ]
  },
  {
   "cell_type": "code",
   "execution_count": 199,
   "metadata": {},
   "outputs": [],
   "source": [
    "# Address Missing Columns\n",
    "\n",
    "# 1. last_name\n",
    "# Replace by 'yy'\n",
    "\n",
    "cust_demo_data['last_name'] = cust_demo_data['last_name'].fillna('yy')\n"
   ]
  },
  {
   "cell_type": "code",
   "execution_count": 200,
   "metadata": {},
   "outputs": [
    {
     "data": {
      "text/plain": [
       "False"
      ]
     },
     "execution_count": 200,
     "metadata": {},
     "output_type": "execute_result"
    }
   ],
   "source": [
    "cust_demo_data['last_name'].isnull().any()"
   ]
  },
  {
   "cell_type": "code",
   "execution_count": 201,
   "metadata": {},
   "outputs": [],
   "source": [
    "# 2. DOB\n",
    "# Drop these values\n",
    "\n",
    "cust_demo_data = cust_demo_data.dropna(subset='DOB')"
   ]
  },
  {
   "cell_type": "code",
   "execution_count": 202,
   "metadata": {},
   "outputs": [
    {
     "data": {
      "text/plain": [
       "False"
      ]
     },
     "execution_count": 202,
     "metadata": {},
     "output_type": "execute_result"
    }
   ],
   "source": [
    "cust_demo_data['DOB'].isnull().any()"
   ]
  },
  {
   "cell_type": "code",
   "execution_count": 203,
   "metadata": {},
   "outputs": [],
   "source": [
    "# 3. Job title and job industry category\n",
    "# Replace with 'no value'\n",
    "\n",
    "cust_demo_data['job_title'] = cust_demo_data['job_title'].fillna('Unknown category')"
   ]
  },
  {
   "cell_type": "code",
   "execution_count": 204,
   "metadata": {},
   "outputs": [
    {
     "data": {
      "text/plain": [
       "False"
      ]
     },
     "execution_count": 204,
     "metadata": {},
     "output_type": "execute_result"
    }
   ],
   "source": [
    "cust_demo_data['job_title'].isnull().any()"
   ]
  },
  {
   "cell_type": "code",
   "execution_count": 205,
   "metadata": {},
   "outputs": [],
   "source": [
    "cust_demo_data['job_industry_category'] = cust_demo_data['job_industry_category'].fillna('Unknown category')"
   ]
  },
  {
   "cell_type": "code",
   "execution_count": 206,
   "metadata": {},
   "outputs": [],
   "source": [
    "# 3. default\n",
    "# Drop this column as of no use for us\n",
    "\n",
    "cust_demo_data = cust_demo_data.drop(columns=['default'])"
   ]
  },
  {
   "cell_type": "code",
   "execution_count": 207,
   "metadata": {},
   "outputs": [
    {
     "data": {
      "text/plain": [
       "customer_id                            0\n",
       "first_name                             0\n",
       "last_name                              0\n",
       "gender                                 0\n",
       "past_3_years_bike_related_purchases    0\n",
       "DOB                                    0\n",
       "job_title                              0\n",
       "job_industry_category                  0\n",
       "wealth_segment                         0\n",
       "deceased_indicator                     0\n",
       "owns_car                               0\n",
       "tenure                                 0\n",
       "dtype: int64"
      ]
     },
     "execution_count": 207,
     "metadata": {},
     "output_type": "execute_result"
    }
   ],
   "source": [
    "cust_demo_data.isnull().sum()"
   ]
  },
  {
   "cell_type": "code",
   "execution_count": 208,
   "metadata": {},
   "outputs": [],
   "source": [
    "cust_demo_data_cleaned =  cust_demo_data"
   ]
  },
  {
   "cell_type": "markdown",
   "metadata": {},
   "source": [
    "# Find age\n",
    "- First get ref date from transaction data\n",
    "- Find age using DOB and ref date"
   ]
  },
  {
   "cell_type": "code",
   "execution_count": 209,
   "metadata": {},
   "outputs": [
    {
     "name": "stdout",
     "output_type": "stream",
     "text": [
      "<class 'pandas.core.frame.DataFrame'>\n",
      "RangeIndex: 19803 entries, 0 to 19802\n",
      "Data columns (total 14 columns):\n",
      " #   Column                   Non-Null Count  Dtype  \n",
      "---  ------                   --------------  -----  \n",
      " 0   transaction_id           19803 non-null  int64  \n",
      " 1   product_id               19803 non-null  int64  \n",
      " 2   customer_id              19803 non-null  int64  \n",
      " 3   transaction_date         19803 non-null  object \n",
      " 4   online_order             19803 non-null  float64\n",
      " 5   order_status             19803 non-null  object \n",
      " 6   brand                    19803 non-null  object \n",
      " 7   product_line             19803 non-null  object \n",
      " 8   product_class            19803 non-null  object \n",
      " 9   product_size             19803 non-null  object \n",
      " 10  list_price               19803 non-null  float64\n",
      " 11  standard_cost            19803 non-null  float64\n",
      " 12  product_first_sold_date  19803 non-null  float64\n",
      " 13  profit                   19803 non-null  float64\n",
      "dtypes: float64(5), int64(3), object(6)\n",
      "memory usage: 2.1+ MB\n"
     ]
    }
   ],
   "source": [
    "transaction_data = pd.read_csv('transaction_data_cleaned.csv')\n",
    "transaction_data.info()"
   ]
  },
  {
   "cell_type": "code",
   "execution_count": 210,
   "metadata": {},
   "outputs": [
    {
     "name": "stdout",
     "output_type": "stream",
     "text": [
      "2017-12-30\n"
     ]
    }
   ],
   "source": [
    "# Calculate ref date\n",
    "ref_date = max(pd.to_datetime(transaction_data['transaction_date']))\n",
    "ref_date = ref_date.date()\n",
    "print(ref_date)"
   ]
  },
  {
   "cell_type": "code",
   "execution_count": 211,
   "metadata": {},
   "outputs": [
    {
     "name": "stdout",
     "output_type": "stream",
     "text": [
      "<class 'pandas.core.frame.DataFrame'>\n",
      "Index: 3913 entries, 0 to 3999\n",
      "Data columns (total 12 columns):\n",
      " #   Column                               Non-Null Count  Dtype  \n",
      "---  ------                               --------------  -----  \n",
      " 0   customer_id                          3913 non-null   int64  \n",
      " 1   first_name                           3913 non-null   object \n",
      " 2   last_name                            3913 non-null   object \n",
      " 3   gender                               3913 non-null   object \n",
      " 4   past_3_years_bike_related_purchases  3913 non-null   int64  \n",
      " 5   DOB                                  3913 non-null   object \n",
      " 6   job_title                            3913 non-null   object \n",
      " 7   job_industry_category                3913 non-null   object \n",
      " 8   wealth_segment                       3913 non-null   object \n",
      " 9   deceased_indicator                   3913 non-null   object \n",
      " 10  owns_car                             3913 non-null   object \n",
      " 11  tenure                               3913 non-null   float64\n",
      "dtypes: float64(1), int64(2), object(9)\n",
      "memory usage: 397.4+ KB\n"
     ]
    }
   ],
   "source": [
    "# Caluclate age\n",
    "cust_demo_data_cleaned.info()"
   ]
  },
  {
   "cell_type": "code",
   "execution_count": 212,
   "metadata": {},
   "outputs": [],
   "source": [
    "# Convert DOB to datetime\n",
    "cust_demo_data['DOB'] = pd.to_datetime(cust_demo_data['DOB'])"
   ]
  },
  {
   "cell_type": "code",
   "execution_count": 213,
   "metadata": {},
   "outputs": [],
   "source": [
    "cust_demo_data_cleaned['DOB'] = cust_demo_data_cleaned['DOB'].dt.date\n"
   ]
  },
  {
   "cell_type": "code",
   "execution_count": 214,
   "metadata": {},
   "outputs": [],
   "source": [
    "# Convert both dob date to datetime\n",
    "cust_demo_data['DOB'] = pd.to_datetime(cust_demo_data['DOB'])\n",
    "ref_date = pd.to_datetime(ref_date)"
   ]
  },
  {
   "cell_type": "code",
   "execution_count": 215,
   "metadata": {},
   "outputs": [],
   "source": [
    "cust_demo_data['age'] = ref_date - cust_demo_data_cleaned['DOB']\n"
   ]
  },
  {
   "cell_type": "code",
   "execution_count": 216,
   "metadata": {},
   "outputs": [],
   "source": [
    "cust_demo_data['age'] = cust_demo_data['age'].dt.days/365.25\n"
   ]
  },
  {
   "cell_type": "code",
   "execution_count": 217,
   "metadata": {},
   "outputs": [],
   "source": [
    "cust_demo_data['age'] = cust_demo_data['age'].astype(int)"
   ]
  },
  {
   "cell_type": "code",
   "execution_count": 218,
   "metadata": {},
   "outputs": [
    {
     "name": "stdout",
     "output_type": "stream",
     "text": [
      "<class 'pandas.core.frame.DataFrame'>\n",
      "Index: 3913 entries, 0 to 3999\n",
      "Data columns (total 13 columns):\n",
      " #   Column                               Non-Null Count  Dtype         \n",
      "---  ------                               --------------  -----         \n",
      " 0   customer_id                          3913 non-null   int64         \n",
      " 1   first_name                           3913 non-null   object        \n",
      " 2   last_name                            3913 non-null   object        \n",
      " 3   gender                               3913 non-null   object        \n",
      " 4   past_3_years_bike_related_purchases  3913 non-null   int64         \n",
      " 5   DOB                                  3913 non-null   datetime64[ns]\n",
      " 6   job_title                            3913 non-null   object        \n",
      " 7   job_industry_category                3913 non-null   object        \n",
      " 8   wealth_segment                       3913 non-null   object        \n",
      " 9   deceased_indicator                   3913 non-null   object        \n",
      " 10  owns_car                             3913 non-null   object        \n",
      " 11  tenure                               3913 non-null   float64       \n",
      " 12  age                                  3913 non-null   int64         \n",
      "dtypes: datetime64[ns](1), float64(1), int64(3), object(8)\n",
      "memory usage: 428.0+ KB\n"
     ]
    }
   ],
   "source": [
    "cust_demo_data.info()"
   ]
  },
  {
   "cell_type": "code",
   "execution_count": 219,
   "metadata": {},
   "outputs": [],
   "source": [
    "# Export file\n",
    "cust_demo_data_cleaned.to_csv('customer_demography_cleaned.csv', index= False)"
   ]
  },
  {
   "cell_type": "code",
   "execution_count": null,
   "metadata": {},
   "outputs": [],
   "source": []
  },
  {
   "cell_type": "code",
   "execution_count": null,
   "metadata": {},
   "outputs": [],
   "source": []
  },
  {
   "cell_type": "code",
   "execution_count": null,
   "metadata": {},
   "outputs": [],
   "source": []
  },
  {
   "cell_type": "code",
   "execution_count": null,
   "metadata": {},
   "outputs": [],
   "source": []
  },
  {
   "cell_type": "code",
   "execution_count": null,
   "metadata": {},
   "outputs": [],
   "source": []
  }
 ],
 "metadata": {
  "kernelspec": {
   "display_name": "custseg",
   "language": "python",
   "name": "python3"
  },
  "language_info": {
   "codemirror_mode": {
    "name": "ipython",
    "version": 3
   },
   "file_extension": ".py",
   "mimetype": "text/x-python",
   "name": "python",
   "nbconvert_exporter": "python",
   "pygments_lexer": "ipython3",
   "version": "3.12.4"
  }
 },
 "nbformat": 4,
 "nbformat_minor": 2
}
