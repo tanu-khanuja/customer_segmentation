{
 "cells": [
  {
   "cell_type": "markdown",
   "metadata": {},
   "source": [
    "# 1. Read all cleaned csv files"
   ]
  },
  {
   "cell_type": "code",
   "execution_count": 67,
   "metadata": {},
   "outputs": [],
   "source": [
    "# Read all cleaned data csv files\n",
    "\n",
    "import pandas as pd \n",
    "\n",
    "rfm_data = pd.read_csv('rfm_data.csv')\n",
    "newcust_data = pd.read_csv('new_customer_cleaned.csv')\n",
    "custdemo_data = pd.read_csv('customer_demography_cleaned.csv')\n",
    "custadd_data = pd.read_csv('customer_address_cleaned.csv')\n"
   ]
  },
  {
   "cell_type": "markdown",
   "metadata": {},
   "source": [
    "## RFM data"
   ]
  },
  {
   "cell_type": "code",
   "execution_count": 68,
   "metadata": {},
   "outputs": [
    {
     "name": "stdout",
     "output_type": "stream",
     "text": [
      "<class 'pandas.core.frame.DataFrame'>\n",
      "RangeIndex: 3494 entries, 0 to 3493\n",
      "Data columns (total 9 columns):\n",
      " #   Column       Non-Null Count  Dtype  \n",
      "---  ------       --------------  -----  \n",
      " 0   customer_id  3494 non-null   int64  \n",
      " 1   recency      3494 non-null   int64  \n",
      " 2   frequency    3494 non-null   int64  \n",
      " 3   monetary     3494 non-null   float64\n",
      " 4   r_score      3494 non-null   int64  \n",
      " 5   f_score      3494 non-null   int64  \n",
      " 6   m_score      3494 non-null   int64  \n",
      " 7   rfm_score    3494 non-null   int64  \n",
      " 8   Segment      3494 non-null   object \n",
      "dtypes: float64(1), int64(7), object(1)\n",
      "memory usage: 245.8+ KB\n"
     ]
    }
   ],
   "source": [
    "rfm_data.info()"
   ]
  },
  {
   "cell_type": "markdown",
   "metadata": {},
   "source": [
    "## New Customer data"
   ]
  },
  {
   "cell_type": "code",
   "execution_count": 69,
   "metadata": {},
   "outputs": [
    {
     "name": "stdout",
     "output_type": "stream",
     "text": [
      "<class 'pandas.core.frame.DataFrame'>\n",
      "RangeIndex: 983 entries, 0 to 982\n",
      "Data columns (total 19 columns):\n",
      " #   Column                               Non-Null Count  Dtype  \n",
      "---  ------                               --------------  -----  \n",
      " 0   first_name                           983 non-null    object \n",
      " 1   last_name                            983 non-null    object \n",
      " 2   gender                               983 non-null    object \n",
      " 3   past_3_years_bike_related_purchases  983 non-null    int64  \n",
      " 4   DOB                                  983 non-null    object \n",
      " 5   job_title                            983 non-null    object \n",
      " 6   job_industry_category                983 non-null    object \n",
      " 7   wealth_segment                       983 non-null    object \n",
      " 8   deceased_indicator                   983 non-null    object \n",
      " 9   owns_car                             983 non-null    object \n",
      " 10  tenure                               983 non-null    int64  \n",
      " 11  address                              983 non-null    object \n",
      " 12  postcode                             983 non-null    int64  \n",
      " 13  state                                983 non-null    object \n",
      " 14  country                              983 non-null    object \n",
      " 15  property_valuation                   983 non-null    int64  \n",
      " 16  Rank                                 983 non-null    int64  \n",
      " 17  Value                                983 non-null    float64\n",
      " 18  newcust_age                          983 non-null    float64\n",
      "dtypes: float64(2), int64(5), object(12)\n",
      "memory usage: 146.0+ KB\n"
     ]
    }
   ],
   "source": [
    "newcust_data.info()"
   ]
  },
  {
   "cell_type": "markdown",
   "metadata": {},
   "source": [
    "## Customer demographic"
   ]
  },
  {
   "cell_type": "code",
   "execution_count": 70,
   "metadata": {},
   "outputs": [
    {
     "name": "stdout",
     "output_type": "stream",
     "text": [
      "<class 'pandas.core.frame.DataFrame'>\n",
      "RangeIndex: 3913 entries, 0 to 3912\n",
      "Data columns (total 13 columns):\n",
      " #   Column                               Non-Null Count  Dtype  \n",
      "---  ------                               --------------  -----  \n",
      " 0   customer_id                          3913 non-null   int64  \n",
      " 1   first_name                           3913 non-null   object \n",
      " 2   last_name                            3913 non-null   object \n",
      " 3   gender                               3913 non-null   object \n",
      " 4   past_3_years_bike_related_purchases  3913 non-null   int64  \n",
      " 5   DOB                                  3913 non-null   object \n",
      " 6   job_title                            3913 non-null   object \n",
      " 7   job_industry_category                3913 non-null   object \n",
      " 8   wealth_segment                       3913 non-null   object \n",
      " 9   deceased_indicator                   3913 non-null   object \n",
      " 10  owns_car                             3913 non-null   object \n",
      " 11  tenure                               3913 non-null   float64\n",
      " 12  age                                  3913 non-null   int64  \n",
      "dtypes: float64(1), int64(3), object(9)\n",
      "memory usage: 397.5+ KB\n"
     ]
    }
   ],
   "source": [
    "custdemo_data.info()"
   ]
  },
  {
   "cell_type": "markdown",
   "metadata": {},
   "source": [
    "## Customer Address"
   ]
  },
  {
   "cell_type": "code",
   "execution_count": 71,
   "metadata": {},
   "outputs": [
    {
     "name": "stdout",
     "output_type": "stream",
     "text": [
      "<class 'pandas.core.frame.DataFrame'>\n",
      "RangeIndex: 3999 entries, 0 to 3998\n",
      "Data columns (total 6 columns):\n",
      " #   Column              Non-Null Count  Dtype \n",
      "---  ------              --------------  ----- \n",
      " 0   customer_id         3999 non-null   int64 \n",
      " 1   address             3999 non-null   object\n",
      " 2   postcode            3999 non-null   int64 \n",
      " 3   state               3999 non-null   object\n",
      " 4   country             3999 non-null   object\n",
      " 5   property_valuation  3999 non-null   int64 \n",
      "dtypes: int64(3), object(3)\n",
      "memory usage: 187.6+ KB\n"
     ]
    }
   ],
   "source": [
    "custadd_data.info()"
   ]
  },
  {
   "cell_type": "markdown",
   "metadata": {},
   "source": [
    "# 2. Segmentwise state distribution\n",
    "\n",
    "- Merge `custadd['state']` column with `rfm_data` df based on 'customer_id'."
   ]
  },
  {
   "cell_type": "code",
   "execution_count": 72,
   "metadata": {},
   "outputs": [
    {
     "data": {
      "text/html": [
       "<div>\n",
       "<style scoped>\n",
       "    .dataframe tbody tr th:only-of-type {\n",
       "        vertical-align: middle;\n",
       "    }\n",
       "\n",
       "    .dataframe tbody tr th {\n",
       "        vertical-align: top;\n",
       "    }\n",
       "\n",
       "    .dataframe thead th {\n",
       "        text-align: right;\n",
       "    }\n",
       "</style>\n",
       "<table border=\"1\" class=\"dataframe\">\n",
       "  <thead>\n",
       "    <tr style=\"text-align: right;\">\n",
       "      <th></th>\n",
       "      <th>customer_id</th>\n",
       "      <th>address</th>\n",
       "      <th>postcode</th>\n",
       "      <th>state</th>\n",
       "      <th>country</th>\n",
       "      <th>property_valuation</th>\n",
       "    </tr>\n",
       "  </thead>\n",
       "  <tbody>\n",
       "    <tr>\n",
       "      <th>0</th>\n",
       "      <td>1</td>\n",
       "      <td>060 Morning Avenue</td>\n",
       "      <td>2016</td>\n",
       "      <td>NSW</td>\n",
       "      <td>Australia</td>\n",
       "      <td>10</td>\n",
       "    </tr>\n",
       "    <tr>\n",
       "      <th>1</th>\n",
       "      <td>2</td>\n",
       "      <td>6 Meadow Vale Court</td>\n",
       "      <td>2153</td>\n",
       "      <td>NSW</td>\n",
       "      <td>Australia</td>\n",
       "      <td>10</td>\n",
       "    </tr>\n",
       "  </tbody>\n",
       "</table>\n",
       "</div>"
      ],
      "text/plain": [
       "   customer_id              address  postcode state    country  \\\n",
       "0            1   060 Morning Avenue      2016   NSW  Australia   \n",
       "1            2  6 Meadow Vale Court      2153   NSW  Australia   \n",
       "\n",
       "   property_valuation  \n",
       "0                  10  \n",
       "1                  10  "
      ]
     },
     "execution_count": 72,
     "metadata": {},
     "output_type": "execute_result"
    }
   ],
   "source": [
    "custadd_data.head(2)"
   ]
  },
  {
   "cell_type": "code",
   "execution_count": 73,
   "metadata": {},
   "outputs": [
    {
     "data": {
      "text/html": [
       "<div>\n",
       "<style scoped>\n",
       "    .dataframe tbody tr th:only-of-type {\n",
       "        vertical-align: middle;\n",
       "    }\n",
       "\n",
       "    .dataframe tbody tr th {\n",
       "        vertical-align: top;\n",
       "    }\n",
       "\n",
       "    .dataframe thead th {\n",
       "        text-align: right;\n",
       "    }\n",
       "</style>\n",
       "<table border=\"1\" class=\"dataframe\">\n",
       "  <thead>\n",
       "    <tr style=\"text-align: right;\">\n",
       "      <th></th>\n",
       "      <th>customer_id</th>\n",
       "      <th>recency</th>\n",
       "      <th>frequency</th>\n",
       "      <th>monetary</th>\n",
       "      <th>r_score</th>\n",
       "      <th>f_score</th>\n",
       "      <th>m_score</th>\n",
       "      <th>rfm_score</th>\n",
       "      <th>Segment</th>\n",
       "    </tr>\n",
       "  </thead>\n",
       "  <tbody>\n",
       "    <tr>\n",
       "      <th>0</th>\n",
       "      <td>1</td>\n",
       "      <td>7</td>\n",
       "      <td>11</td>\n",
       "      <td>9084.45</td>\n",
       "      <td>5</td>\n",
       "      <td>5</td>\n",
       "      <td>5</td>\n",
       "      <td>555</td>\n",
       "      <td>Champions</td>\n",
       "    </tr>\n",
       "    <tr>\n",
       "      <th>1</th>\n",
       "      <td>2</td>\n",
       "      <td>128</td>\n",
       "      <td>3</td>\n",
       "      <td>4149.07</td>\n",
       "      <td>1</td>\n",
       "      <td>1</td>\n",
       "      <td>2</td>\n",
       "      <td>112</td>\n",
       "      <td>Lost Customers</td>\n",
       "    </tr>\n",
       "  </tbody>\n",
       "</table>\n",
       "</div>"
      ],
      "text/plain": [
       "   customer_id  recency  frequency  monetary  r_score  f_score  m_score  \\\n",
       "0            1        7         11   9084.45        5        5        5   \n",
       "1            2      128          3   4149.07        1        1        2   \n",
       "\n",
       "   rfm_score         Segment  \n",
       "0        555       Champions  \n",
       "1        112  Lost Customers  "
      ]
     },
     "execution_count": 73,
     "metadata": {},
     "output_type": "execute_result"
    }
   ],
   "source": [
    "rfm_data.head(2)"
   ]
  },
  {
   "cell_type": "code",
   "execution_count": 74,
   "metadata": {},
   "outputs": [
    {
     "data": {
      "text/plain": [
       "3999"
      ]
     },
     "execution_count": 74,
     "metadata": {},
     "output_type": "execute_result"
    }
   ],
   "source": [
    "len(custadd_data)"
   ]
  },
  {
   "cell_type": "code",
   "execution_count": 75,
   "metadata": {},
   "outputs": [
    {
     "data": {
      "text/plain": [
       "3494"
      ]
     },
     "execution_count": 75,
     "metadata": {},
     "output_type": "execute_result"
    }
   ],
   "source": [
    "len(rfm_data)"
   ]
  },
  {
   "cell_type": "markdown",
   "metadata": {},
   "source": [
    "- Length of custadd_data and rfm_data varies because we dropped some rows in transaction_data during cleaning.\n",
    "(Check transaction_data_cleaning.ipynb)"
   ]
  },
  {
   "cell_type": "code",
   "execution_count": 76,
   "metadata": {},
   "outputs": [],
   "source": [
    "rfm_updated = pd.merge(rfm_data, custadd_data[['customer_id','state']], on ='customer_id')"
   ]
  },
  {
   "cell_type": "code",
   "execution_count": 77,
   "metadata": {},
   "outputs": [
    {
     "data": {
      "text/html": [
       "<div>\n",
       "<style scoped>\n",
       "    .dataframe tbody tr th:only-of-type {\n",
       "        vertical-align: middle;\n",
       "    }\n",
       "\n",
       "    .dataframe tbody tr th {\n",
       "        vertical-align: top;\n",
       "    }\n",
       "\n",
       "    .dataframe thead th {\n",
       "        text-align: right;\n",
       "    }\n",
       "</style>\n",
       "<table border=\"1\" class=\"dataframe\">\n",
       "  <thead>\n",
       "    <tr style=\"text-align: right;\">\n",
       "      <th></th>\n",
       "      <th>customer_id</th>\n",
       "      <th>recency</th>\n",
       "      <th>frequency</th>\n",
       "      <th>monetary</th>\n",
       "      <th>r_score</th>\n",
       "      <th>f_score</th>\n",
       "      <th>m_score</th>\n",
       "      <th>rfm_score</th>\n",
       "      <th>Segment</th>\n",
       "      <th>state</th>\n",
       "    </tr>\n",
       "  </thead>\n",
       "  <tbody>\n",
       "    <tr>\n",
       "      <th>0</th>\n",
       "      <td>1</td>\n",
       "      <td>7</td>\n",
       "      <td>11</td>\n",
       "      <td>9084.45</td>\n",
       "      <td>5</td>\n",
       "      <td>5</td>\n",
       "      <td>5</td>\n",
       "      <td>555</td>\n",
       "      <td>Champions</td>\n",
       "      <td>NSW</td>\n",
       "    </tr>\n",
       "    <tr>\n",
       "      <th>1</th>\n",
       "      <td>2</td>\n",
       "      <td>128</td>\n",
       "      <td>3</td>\n",
       "      <td>4149.07</td>\n",
       "      <td>1</td>\n",
       "      <td>1</td>\n",
       "      <td>2</td>\n",
       "      <td>112</td>\n",
       "      <td>Lost Customers</td>\n",
       "      <td>NSW</td>\n",
       "    </tr>\n",
       "  </tbody>\n",
       "</table>\n",
       "</div>"
      ],
      "text/plain": [
       "   customer_id  recency  frequency  monetary  r_score  f_score  m_score  \\\n",
       "0            1        7         11   9084.45        5        5        5   \n",
       "1            2      128          3   4149.07        1        1        2   \n",
       "\n",
       "   rfm_score         Segment state  \n",
       "0        555       Champions   NSW  \n",
       "1        112  Lost Customers   NSW  "
      ]
     },
     "execution_count": 77,
     "metadata": {},
     "output_type": "execute_result"
    }
   ],
   "source": [
    "rfm_updated.head(2)"
   ]
  },
  {
   "cell_type": "code",
   "execution_count": 78,
   "metadata": {},
   "outputs": [
    {
     "data": {
      "text/plain": [
       "defaultdict(str,\n",
       "            {' At Risk': Counter({'NSW': 102,\n",
       "                      'QLD': 46,\n",
       "                      'VIC': 32,\n",
       "                      'Victoria': 5}),\n",
       "             'Average Customers': Counter({'NSW': 559,\n",
       "                      'VIC': 236,\n",
       "                      'QLD': 228,\n",
       "                      'Victoria': 20}),\n",
       "             'Champions': Counter({'NSW': 63,\n",
       "                      'QLD': 35,\n",
       "                      'VIC': 27,\n",
       "                      'Victoria': 4}),\n",
       "             'Lost Customers': Counter({'NSW': 584,\n",
       "                      'VIC': 271,\n",
       "                      'QLD': 241,\n",
       "                      'Victoria': 37}),\n",
       "             'Loyal Customers': Counter({'NSW': 124,\n",
       "                      'VIC': 54,\n",
       "                      'QLD': 41,\n",
       "                      'Victoria': 6}),\n",
       "             'New Customers': Counter({'NSW': 252,\n",
       "                      'VIC': 102,\n",
       "                      'QLD': 92,\n",
       "                      'Victoria': 7}),\n",
       "             'Potential Loyalists': Counter({'NSW': 182,\n",
       "                      'VIC': 76,\n",
       "                      'QLD': 60,\n",
       "                      'Victoria': 3})})"
      ]
     },
     "execution_count": 78,
     "metadata": {},
     "output_type": "execute_result"
    }
   ],
   "source": [
    "from collections import defaultdict, Counter\n",
    "\n",
    "grouped_data = rfm_updated.groupby('Segment')\n",
    "segmentwise_states = defaultdict(str)\n",
    "for segment, group in grouped_data:\n",
    "    segmentwise_states[segment] = group['state'].tolist()\n",
    "for keys, values in segmentwise_states.items():\n",
    "    segmentwise_states[keys] = Counter(values)\n",
    "\n",
    "segmentwise_states"
   ]
  },
  {
   "cell_type": "markdown",
   "metadata": {},
   "source": [
    "### Plots"
   ]
  },
  {
   "cell_type": "code",
   "execution_count": 79,
   "metadata": {},
   "outputs": [
    {
     "data": {
      "image/png": "[encoded data removed]",
      "text/plain": [
       "<IPython.core.display.Image object>"
      ]
     },
     "execution_count": 79,
     "metadata": {},
     "output_type": "execute_result"
    }
   ],
   "source": [
    "# Extract unique states\n",
    "import plotly.graph_objects as go\n",
    "import plotly.io as pio\n",
    "from IPython.display import Image\n",
    "states = sorted(set(state for counts in segmentwise_states.values() for state in counts))\n",
    "\n",
    "# Create traces for each state\n",
    "traces = []\n",
    "for state in states:\n",
    "    # Create a bar trace for this state\n",
    "    traces.append(go.Bar(\n",
    "        x=list(segmentwise_states.keys()),  # Segments on x-axis\n",
    "        y=[segmentwise_states[segment].get(state, 0) for segment in segmentwise_states],\n",
    "        name=state\n",
    "    ))\n",
    "\n",
    "# Create Figure\n",
    "fig = go.Figure(data=traces)\n",
    "\n",
    "# Update layout\n",
    "fig.update_layout(\n",
    "    barmode='stack',\n",
    "    title='Customer Segments Distribution by State',\n",
    "    xaxis_title='Customer Segment',\n",
    "    yaxis_title='Number of Customers',\n",
    "    legend_title='States'\n",
    ")\n",
    "\n",
    "# Show plot\n",
    "# fig.show()\n",
    "# Save the figure as a static image\n",
    "pio.write_image(fig, 'customer_segments_by_states.png')\n",
    "\n",
    "# Display the image in the notebook\n",
    "\n",
    "Image('customer_segments_by_states.png')\n",
    "\n",
    "\n",
    "\n",
    "\n"
   ]
  },
  {
   "cell_type": "code",
   "execution_count": 80,
   "metadata": {},
   "outputs": [
    {
     "data": {
      "text/html": [
       "<div>\n",
       "<style scoped>\n",
       "    .dataframe tbody tr th:only-of-type {\n",
       "        vertical-align: middle;\n",
       "    }\n",
       "\n",
       "    .dataframe tbody tr th {\n",
       "        vertical-align: top;\n",
       "    }\n",
       "\n",
       "    .dataframe thead th {\n",
       "        text-align: right;\n",
       "    }\n",
       "</style>\n",
       "<table border=\"1\" class=\"dataframe\">\n",
       "  <thead>\n",
       "    <tr style=\"text-align: right;\">\n",
       "      <th></th>\n",
       "      <th>number_of_customers</th>\n",
       "    </tr>\n",
       "    <tr>\n",
       "      <th>state</th>\n",
       "      <th></th>\n",
       "    </tr>\n",
       "  </thead>\n",
       "  <tbody>\n",
       "    <tr>\n",
       "      <th>NSW</th>\n",
       "      <td>1866</td>\n",
       "    </tr>\n",
       "    <tr>\n",
       "      <th>QLD</th>\n",
       "      <td>743</td>\n",
       "    </tr>\n",
       "    <tr>\n",
       "      <th>VIC</th>\n",
       "      <td>798</td>\n",
       "    </tr>\n",
       "    <tr>\n",
       "      <th>Victoria</th>\n",
       "      <td>82</td>\n",
       "    </tr>\n",
       "  </tbody>\n",
       "</table>\n",
       "</div>"
      ],
      "text/plain": [
       "          number_of_customers\n",
       "state                        \n",
       "NSW                      1866\n",
       "QLD                       743\n",
       "VIC                       798\n",
       "Victoria                   82"
      ]
     },
     "execution_count": 80,
     "metadata": {},
     "output_type": "execute_result"
    }
   ],
   "source": [
    "# Number of customers from each state\n",
    "statewise_customers = rfm_updated.groupby('state').agg({'customer_id': 'count'})\n",
    "statewise_customers.rename(columns={'customer_id':'number_of_customers'}, inplace=True)\n",
    "statewise_customers"
   ]
  },
  {
   "cell_type": "markdown",
   "metadata": {},
   "source": [
    "# 3. State wise customer distribution\n",
    "\n",
    "- As we see from previous graph, NSW has the largest share of customers.\n",
    "- Let' analyse statewise distrbution of customer segments, so statewise startegoes can be created."
   ]
  },
  {
   "cell_type": "code",
   "execution_count": 81,
   "metadata": {},
   "outputs": [
    {
     "data": {
      "text/html": [
       "<div>\n",
       "<style scoped>\n",
       "    .dataframe tbody tr th:only-of-type {\n",
       "        vertical-align: middle;\n",
       "    }\n",
       "\n",
       "    .dataframe tbody tr th {\n",
       "        vertical-align: top;\n",
       "    }\n",
       "\n",
       "    .dataframe thead th {\n",
       "        text-align: right;\n",
       "    }\n",
       "</style>\n",
       "<table border=\"1\" class=\"dataframe\">\n",
       "  <thead>\n",
       "    <tr style=\"text-align: right;\">\n",
       "      <th></th>\n",
       "      <th>customer_id</th>\n",
       "      <th>recency</th>\n",
       "      <th>frequency</th>\n",
       "      <th>monetary</th>\n",
       "      <th>r_score</th>\n",
       "      <th>f_score</th>\n",
       "      <th>m_score</th>\n",
       "      <th>rfm_score</th>\n",
       "      <th>Segment</th>\n",
       "    </tr>\n",
       "  </thead>\n",
       "  <tbody>\n",
       "    <tr>\n",
       "      <th>0</th>\n",
       "      <td>1</td>\n",
       "      <td>7</td>\n",
       "      <td>11</td>\n",
       "      <td>9084.45</td>\n",
       "      <td>5</td>\n",
       "      <td>5</td>\n",
       "      <td>5</td>\n",
       "      <td>555</td>\n",
       "      <td>Champions</td>\n",
       "    </tr>\n",
       "    <tr>\n",
       "      <th>1</th>\n",
       "      <td>2</td>\n",
       "      <td>128</td>\n",
       "      <td>3</td>\n",
       "      <td>4149.07</td>\n",
       "      <td>1</td>\n",
       "      <td>1</td>\n",
       "      <td>2</td>\n",
       "      <td>112</td>\n",
       "      <td>Lost Customers</td>\n",
       "    </tr>\n",
       "    <tr>\n",
       "      <th>2</th>\n",
       "      <td>3</td>\n",
       "      <td>102</td>\n",
       "      <td>8</td>\n",
       "      <td>9888.23</td>\n",
       "      <td>1</td>\n",
       "      <td>4</td>\n",
       "      <td>5</td>\n",
       "      <td>145</td>\n",
       "      <td>At Risk</td>\n",
       "    </tr>\n",
       "    <tr>\n",
       "      <th>3</th>\n",
       "      <td>4</td>\n",
       "      <td>195</td>\n",
       "      <td>2</td>\n",
       "      <td>1047.72</td>\n",
       "      <td>1</td>\n",
       "      <td>1</td>\n",
       "      <td>1</td>\n",
       "      <td>111</td>\n",
       "      <td>Lost Customers</td>\n",
       "    </tr>\n",
       "    <tr>\n",
       "      <th>4</th>\n",
       "      <td>5</td>\n",
       "      <td>16</td>\n",
       "      <td>6</td>\n",
       "      <td>5903.20</td>\n",
       "      <td>4</td>\n",
       "      <td>3</td>\n",
       "      <td>3</td>\n",
       "      <td>433</td>\n",
       "      <td>Average Customers</td>\n",
       "    </tr>\n",
       "  </tbody>\n",
       "</table>\n",
       "</div>"
      ],
      "text/plain": [
       "   customer_id  recency  frequency  monetary  r_score  f_score  m_score  \\\n",
       "0            1        7         11   9084.45        5        5        5   \n",
       "1            2      128          3   4149.07        1        1        2   \n",
       "2            3      102          8   9888.23        1        4        5   \n",
       "3            4      195          2   1047.72        1        1        1   \n",
       "4            5       16          6   5903.20        4        3        3   \n",
       "\n",
       "   rfm_score            Segment  \n",
       "0        555          Champions  \n",
       "1        112     Lost Customers  \n",
       "2        145            At Risk  \n",
       "3        111     Lost Customers  \n",
       "4        433  Average Customers  "
      ]
     },
     "execution_count": 81,
     "metadata": {},
     "output_type": "execute_result"
    }
   ],
   "source": [
    "rfm_data.head()"
   ]
  },
  {
   "cell_type": "code",
   "execution_count": 82,
   "metadata": {},
   "outputs": [
    {
     "data": {
      "text/plain": [
       "defaultdict(str,\n",
       "            {'NSW': Counter({'Lost Customers': 584,\n",
       "                      'Average Customers': 559,\n",
       "                      'New Customers': 252,\n",
       "                      'Potential Loyalists': 182,\n",
       "                      'Loyal Customers': 124,\n",
       "                      ' At Risk': 102,\n",
       "                      'Champions': 63}),\n",
       "             'QLD': Counter({'Lost Customers': 241,\n",
       "                      'Average Customers': 228,\n",
       "                      'New Customers': 92,\n",
       "                      'Potential Loyalists': 60,\n",
       "                      ' At Risk': 46,\n",
       "                      'Loyal Customers': 41,\n",
       "                      'Champions': 35}),\n",
       "             'VIC': Counter({'Lost Customers': 271,\n",
       "                      'Average Customers': 236,\n",
       "                      'New Customers': 102,\n",
       "                      'Potential Loyalists': 76,\n",
       "                      'Loyal Customers': 54,\n",
       "                      ' At Risk': 32,\n",
       "                      'Champions': 27}),\n",
       "             'Victoria': Counter({'Lost Customers': 37,\n",
       "                      'Average Customers': 20,\n",
       "                      'New Customers': 7,\n",
       "                      'Loyal Customers': 6,\n",
       "                      ' At Risk': 5,\n",
       "                      'Champions': 4,\n",
       "                      'Potential Loyalists': 3})})"
      ]
     },
     "execution_count": 82,
     "metadata": {},
     "output_type": "execute_result"
    }
   ],
   "source": [
    "# Group dataframe by state \n",
    "statewise_cust_group = rfm_updated.groupby('state')\n",
    "\n",
    "# Create a dictionary of statewise segments\n",
    "statewise_segments = defaultdict(str)\n",
    "for state, group in statewise_cust_group:\n",
    "    statewise_segments[state] = group['Segment'].tolist()\n",
    "\n",
    "for keys, values in statewise_segments.items():\n",
    "    statewise_segments[keys] = Counter(values)\n",
    "\n",
    "statewise_segments"
   ]
  },
  {
   "cell_type": "markdown",
   "metadata": {},
   "source": [
    "## Plots"
   ]
  },
  {
   "cell_type": "code",
   "execution_count": 83,
   "metadata": {},
   "outputs": [
    {
     "data": {
      "image/png": "[encoded data removed]",
      "text/plain": [
       "<IPython.core.display.Image object>"
      ]
     },
     "execution_count": 83,
     "metadata": {},
     "output_type": "execute_result"
    }
   ],
   "source": [
    "from itertools import count\n",
    "import plotly.graph_objects as go\n",
    "\n",
    "segments = list(segmentwise_states.keys())  # For consistent stacking\n",
    "\n",
    "# Color map for segments\n",
    "colors = ['#636EFA', '#EF553B', '#00CC96', '#AB63FA', '#FFA15A', '#19D3F3', '#FF6692']\n",
    "\n",
    "# Create Figure\n",
    "fig = go.Figure()\n",
    "\n",
    "# Add bars for each segment \n",
    "for segment, color in zip(segments,colors):\n",
    "    fig.add_trace(go.Bar(\n",
    "        name = segment,\n",
    "        x= list(statewise_segments.keys()),\n",
    "        y =[statewise_segments[state].get(segment,0) for state in statewise_segments.keys()],\n",
    "        marker = dict(color=color),\n",
    "    ))\n",
    "\n",
    "# Layout for bars\n",
    "fig.update_layout(\n",
    "    barmode= 'stack',\n",
    "    title= 'States with Customer Segmentation',\n",
    "    xaxis = dict(title= 'State'),\n",
    "    yaxis = dict(title = 'Number of Customers'),\n",
    "    legend = dict(title = 'Customer Segments')\n",
    ")\n",
    "\n",
    "# fig.show()\n",
    "\n",
    "# Save the figure as a static image\n",
    "pio.write_image(fig, 'states_with_segmentation.png')\n",
    "\n",
    "# Display the image in the notebook\n",
    "\n",
    "Image('states_with_segmentation.png')"
   ]
  },
  {
   "cell_type": "markdown",
   "metadata": {},
   "source": [
    "# 4. Agewise Customer Distribution\n",
    "\n",
    "- Different age group people have different requirements for a bike based on their age.\n",
    "- Let's divide the customers into 4 age groups:\n",
    "1. Young age: 18-35\n",
    "2. Middle age: 36-50\n",
    "3. Senior age: 51-65\n",
    "4. Old age: 66 and above\n",
    "\n",
    "- We will analyse\n",
    "1. Age wise customer distribution\n",
    "2. Age group wise profit made by company\n",
    "\n",
    "\n",
    "\n"
   ]
  },
  {
   "cell_type": "code",
   "execution_count": 84,
   "metadata": {},
   "outputs": [
    {
     "data": {
      "text/html": [
       "<div>\n",
       "<style scoped>\n",
       "    .dataframe tbody tr th:only-of-type {\n",
       "        vertical-align: middle;\n",
       "    }\n",
       "\n",
       "    .dataframe tbody tr th {\n",
       "        vertical-align: top;\n",
       "    }\n",
       "\n",
       "    .dataframe thead th {\n",
       "        text-align: right;\n",
       "    }\n",
       "</style>\n",
       "<table border=\"1\" class=\"dataframe\">\n",
       "  <thead>\n",
       "    <tr style=\"text-align: right;\">\n",
       "      <th></th>\n",
       "      <th>customer_id</th>\n",
       "      <th>recency</th>\n",
       "      <th>frequency</th>\n",
       "      <th>monetary</th>\n",
       "      <th>r_score</th>\n",
       "      <th>f_score</th>\n",
       "      <th>m_score</th>\n",
       "      <th>rfm_score</th>\n",
       "      <th>Segment</th>\n",
       "      <th>state</th>\n",
       "      <th>age</th>\n",
       "    </tr>\n",
       "  </thead>\n",
       "  <tbody>\n",
       "    <tr>\n",
       "      <th>0</th>\n",
       "      <td>1</td>\n",
       "      <td>7</td>\n",
       "      <td>11</td>\n",
       "      <td>9084.45</td>\n",
       "      <td>5</td>\n",
       "      <td>5</td>\n",
       "      <td>5</td>\n",
       "      <td>555</td>\n",
       "      <td>Champions</td>\n",
       "      <td>NSW</td>\n",
       "      <td>64</td>\n",
       "    </tr>\n",
       "    <tr>\n",
       "      <th>1</th>\n",
       "      <td>2</td>\n",
       "      <td>128</td>\n",
       "      <td>3</td>\n",
       "      <td>4149.07</td>\n",
       "      <td>1</td>\n",
       "      <td>1</td>\n",
       "      <td>2</td>\n",
       "      <td>112</td>\n",
       "      <td>Lost Customers</td>\n",
       "      <td>NSW</td>\n",
       "      <td>37</td>\n",
       "    </tr>\n",
       "  </tbody>\n",
       "</table>\n",
       "</div>"
      ],
      "text/plain": [
       "   customer_id  recency  frequency  monetary  r_score  f_score  m_score  \\\n",
       "0            1        7         11   9084.45        5        5        5   \n",
       "1            2      128          3   4149.07        1        1        2   \n",
       "\n",
       "   rfm_score         Segment state  age  \n",
       "0        555       Champions   NSW   64  \n",
       "1        112  Lost Customers   NSW   37  "
      ]
     },
     "execution_count": 84,
     "metadata": {},
     "output_type": "execute_result"
    }
   ],
   "source": [
    "# Merge 'age' of custdemo_data to rfm_with_state data\n",
    "\n",
    "# rfm_with_state = pd.merge(rfm_data, custadd_data[['customer_id','state']], on ='customer_id')\n",
    "# custdemo_data['age']\n",
    "rfm_updated = pd.merge(rfm_updated, custdemo_data[['customer_id','age']], on='customer_id')\n",
    "rfm_updated.head(2)"
   ]
  },
  {
   "cell_type": "markdown",
   "metadata": {},
   "source": [
    "## 4.1 Agewise Customer Distribution\n"
   ]
  },
  {
   "cell_type": "markdown",
   "metadata": {},
   "source": [
    "### (a) Find customer distribution"
   ]
  },
  {
   "cell_type": "code",
   "execution_count": 85,
   "metadata": {},
   "outputs": [],
   "source": [
    "# Create age group\n",
    "bins = [0, 18, 25, 35, 45, 55, 65, 100]  # Age groups\n",
    "labels = ['Teens(0-18)', 'Young Adults(19-25)', 'Early Career Age(26-35)', 'Established Career Age(36-45)', 'Middle Age(46-55)','Pre-Retirement Age(55-64)', 'Elderly(65+)']"
   ]
  },
  {
   "cell_type": "code",
   "execution_count": 86,
   "metadata": {},
   "outputs": [],
   "source": [
    "# Categorize 'age' column into bins\n",
    "rfm_updated['age_group'] = pd.cut(rfm_updated['age'], bins=bins, labels=labels, right=False)"
   ]
  },
  {
   "cell_type": "code",
   "execution_count": 87,
   "metadata": {},
   "outputs": [
    {
     "data": {
      "text/html": [
       "<div>\n",
       "<style scoped>\n",
       "    .dataframe tbody tr th:only-of-type {\n",
       "        vertical-align: middle;\n",
       "    }\n",
       "\n",
       "    .dataframe tbody tr th {\n",
       "        vertical-align: top;\n",
       "    }\n",
       "\n",
       "    .dataframe thead th {\n",
       "        text-align: right;\n",
       "    }\n",
       "</style>\n",
       "<table border=\"1\" class=\"dataframe\">\n",
       "  <thead>\n",
       "    <tr style=\"text-align: right;\">\n",
       "      <th></th>\n",
       "      <th>customer_id</th>\n",
       "      <th>recency</th>\n",
       "      <th>frequency</th>\n",
       "      <th>monetary</th>\n",
       "      <th>r_score</th>\n",
       "      <th>f_score</th>\n",
       "      <th>m_score</th>\n",
       "      <th>rfm_score</th>\n",
       "      <th>Segment</th>\n",
       "      <th>state</th>\n",
       "      <th>age</th>\n",
       "      <th>age_group</th>\n",
       "    </tr>\n",
       "  </thead>\n",
       "  <tbody>\n",
       "    <tr>\n",
       "      <th>0</th>\n",
       "      <td>1</td>\n",
       "      <td>7</td>\n",
       "      <td>11</td>\n",
       "      <td>9084.45</td>\n",
       "      <td>5</td>\n",
       "      <td>5</td>\n",
       "      <td>5</td>\n",
       "      <td>555</td>\n",
       "      <td>Champions</td>\n",
       "      <td>NSW</td>\n",
       "      <td>64</td>\n",
       "      <td>Pre-Retirement Age(55-64)</td>\n",
       "    </tr>\n",
       "    <tr>\n",
       "      <th>1</th>\n",
       "      <td>2</td>\n",
       "      <td>128</td>\n",
       "      <td>3</td>\n",
       "      <td>4149.07</td>\n",
       "      <td>1</td>\n",
       "      <td>1</td>\n",
       "      <td>2</td>\n",
       "      <td>112</td>\n",
       "      <td>Lost Customers</td>\n",
       "      <td>NSW</td>\n",
       "      <td>37</td>\n",
       "      <td>Established Career Age(36-45)</td>\n",
       "    </tr>\n",
       "    <tr>\n",
       "      <th>2</th>\n",
       "      <td>4</td>\n",
       "      <td>195</td>\n",
       "      <td>2</td>\n",
       "      <td>1047.72</td>\n",
       "      <td>1</td>\n",
       "      <td>1</td>\n",
       "      <td>1</td>\n",
       "      <td>111</td>\n",
       "      <td>Lost Customers</td>\n",
       "      <td>QLD</td>\n",
       "      <td>56</td>\n",
       "      <td>Pre-Retirement Age(55-64)</td>\n",
       "    </tr>\n",
       "    <tr>\n",
       "      <th>3</th>\n",
       "      <td>5</td>\n",
       "      <td>16</td>\n",
       "      <td>6</td>\n",
       "      <td>5903.20</td>\n",
       "      <td>4</td>\n",
       "      <td>3</td>\n",
       "      <td>3</td>\n",
       "      <td>433</td>\n",
       "      <td>Average Customers</td>\n",
       "      <td>NSW</td>\n",
       "      <td>40</td>\n",
       "      <td>Established Career Age(36-45)</td>\n",
       "    </tr>\n",
       "    <tr>\n",
       "      <th>4</th>\n",
       "      <td>6</td>\n",
       "      <td>64</td>\n",
       "      <td>5</td>\n",
       "      <td>5931.69</td>\n",
       "      <td>2</td>\n",
       "      <td>2</td>\n",
       "      <td>3</td>\n",
       "      <td>223</td>\n",
       "      <td>Lost Customers</td>\n",
       "      <td>VIC</td>\n",
       "      <td>51</td>\n",
       "      <td>Middle Age(46-55)</td>\n",
       "    </tr>\n",
       "  </tbody>\n",
       "</table>\n",
       "</div>"
      ],
      "text/plain": [
       "   customer_id  recency  frequency  monetary  r_score  f_score  m_score  \\\n",
       "0            1        7         11   9084.45        5        5        5   \n",
       "1            2      128          3   4149.07        1        1        2   \n",
       "2            4      195          2   1047.72        1        1        1   \n",
       "3            5       16          6   5903.20        4        3        3   \n",
       "4            6       64          5   5931.69        2        2        3   \n",
       "\n",
       "   rfm_score            Segment state  age                      age_group  \n",
       "0        555          Champions   NSW   64      Pre-Retirement Age(55-64)  \n",
       "1        112     Lost Customers   NSW   37  Established Career Age(36-45)  \n",
       "2        111     Lost Customers   QLD   56      Pre-Retirement Age(55-64)  \n",
       "3        433  Average Customers   NSW   40  Established Career Age(36-45)  \n",
       "4        223     Lost Customers   VIC   51              Middle Age(46-55)  "
      ]
     },
     "execution_count": 87,
     "metadata": {},
     "output_type": "execute_result"
    }
   ],
   "source": [
    "rfm_updated.head()"
   ]
  },
  {
   "cell_type": "code",
   "execution_count": 88,
   "metadata": {},
   "outputs": [],
   "source": [
    "# Group customers by age_group and count customers in each group\n",
    "age_grouped_customers = rfm_updated.groupby('age_group', observed=False).agg({'customer_id':'count'})"
   ]
  },
  {
   "cell_type": "code",
   "execution_count": 89,
   "metadata": {},
   "outputs": [],
   "source": [
    "# Rename column\n",
    "age_grouped_customers.rename(columns={'customer_id': 'number_of_customers'}, inplace=True)"
   ]
  },
  {
   "cell_type": "code",
   "execution_count": 90,
   "metadata": {},
   "outputs": [
    {
     "data": {
      "text/html": [
       "<div>\n",
       "<style scoped>\n",
       "    .dataframe tbody tr th:only-of-type {\n",
       "        vertical-align: middle;\n",
       "    }\n",
       "\n",
       "    .dataframe tbody tr th {\n",
       "        vertical-align: top;\n",
       "    }\n",
       "\n",
       "    .dataframe thead th {\n",
       "        text-align: right;\n",
       "    }\n",
       "</style>\n",
       "<table border=\"1\" class=\"dataframe\">\n",
       "  <thead>\n",
       "    <tr style=\"text-align: right;\">\n",
       "      <th></th>\n",
       "      <th>number_of_customers</th>\n",
       "    </tr>\n",
       "    <tr>\n",
       "      <th>age_group</th>\n",
       "      <th></th>\n",
       "    </tr>\n",
       "  </thead>\n",
       "  <tbody>\n",
       "    <tr>\n",
       "      <th>Teens(0-18)</th>\n",
       "      <td>73</td>\n",
       "    </tr>\n",
       "    <tr>\n",
       "      <th>Young Adults(19-25)</th>\n",
       "      <td>446</td>\n",
       "    </tr>\n",
       "    <tr>\n",
       "      <th>Early Career Age(26-35)</th>\n",
       "      <td>594</td>\n",
       "    </tr>\n",
       "    <tr>\n",
       "      <th>Established Career Age(36-45)</th>\n",
       "      <td>1168</td>\n",
       "    </tr>\n",
       "    <tr>\n",
       "      <th>Middle Age(46-55)</th>\n",
       "      <td>611</td>\n",
       "    </tr>\n",
       "    <tr>\n",
       "      <th>Pre-Retirement Age(55-64)</th>\n",
       "      <td>515</td>\n",
       "    </tr>\n",
       "    <tr>\n",
       "      <th>Elderly(65+)</th>\n",
       "      <td>5</td>\n",
       "    </tr>\n",
       "  </tbody>\n",
       "</table>\n",
       "</div>"
      ],
      "text/plain": [
       "                               number_of_customers\n",
       "age_group                                         \n",
       "Teens(0-18)                                     73\n",
       "Young Adults(19-25)                            446\n",
       "Early Career Age(26-35)                        594\n",
       "Established Career Age(36-45)                 1168\n",
       "Middle Age(46-55)                              611\n",
       "Pre-Retirement Age(55-64)                      515\n",
       "Elderly(65+)                                     5"
      ]
     },
     "execution_count": 90,
     "metadata": {},
     "output_type": "execute_result"
    }
   ],
   "source": [
    "age_grouped_customers"
   ]
  },
  {
   "cell_type": "markdown",
   "metadata": {},
   "source": [
    "### (b) Plot"
   ]
  },
  {
   "cell_type": "code",
   "execution_count": 91,
   "metadata": {},
   "outputs": [
    {
     "data": {
      "image/png": "[encoded data removed]",
      "text/plain": [
       "<IPython.core.display.Image object>"
      ]
     },
     "execution_count": 91,
     "metadata": {},
     "output_type": "execute_result"
    }
   ],
   "source": [
    "import plotly.express as px\n",
    "\n",
    "fig = px.bar(age_grouped_customers, orientation='h')\n",
    "fig.update_layout(\n",
    "    xaxis_title='Age Group',\n",
    "    yaxis_title= 'Number of Customers',\n",
    "    title= 'Customers by Age Group',\n",
    "    showlegend= False\n",
    ")\n",
    "# fig.show()\n",
    "\n",
    "# Save the figure as a static image\n",
    "pio.write_image(fig, 'customers_by_age.png')\n",
    "\n",
    "# Display the image in the notebook\n",
    "\n",
    "Image('customers_by_age.png')"
   ]
  },
  {
   "cell_type": "markdown",
   "metadata": {},
   "source": [
    "## 4.2 Profit by age\n",
    "- Group age-wise and sum the profit made from cutomers in each group."
   ]
  },
  {
   "cell_type": "code",
   "execution_count": 92,
   "metadata": {},
   "outputs": [],
   "source": [
    "transaction_data = pd.read_csv('transaction_data_cleaned.csv')\n"
   ]
  },
  {
   "cell_type": "code",
   "execution_count": 93,
   "metadata": {},
   "outputs": [],
   "source": [
    "rfm_updated = pd.merge(rfm_updated, transaction_data[['customer_id','profit']], on='customer_id')"
   ]
  },
  {
   "cell_type": "code",
   "execution_count": 94,
   "metadata": {},
   "outputs": [
    {
     "data": {
      "text/html": [
       "<div>\n",
       "<style scoped>\n",
       "    .dataframe tbody tr th:only-of-type {\n",
       "        vertical-align: middle;\n",
       "    }\n",
       "\n",
       "    .dataframe tbody tr th {\n",
       "        vertical-align: top;\n",
       "    }\n",
       "\n",
       "    .dataframe thead th {\n",
       "        text-align: right;\n",
       "    }\n",
       "</style>\n",
       "<table border=\"1\" class=\"dataframe\">\n",
       "  <thead>\n",
       "    <tr style=\"text-align: right;\">\n",
       "      <th></th>\n",
       "      <th>customer_id</th>\n",
       "      <th>recency</th>\n",
       "      <th>frequency</th>\n",
       "      <th>monetary</th>\n",
       "      <th>r_score</th>\n",
       "      <th>f_score</th>\n",
       "      <th>m_score</th>\n",
       "      <th>rfm_score</th>\n",
       "      <th>Segment</th>\n",
       "      <th>state</th>\n",
       "      <th>age</th>\n",
       "      <th>age_group</th>\n",
       "      <th>profit</th>\n",
       "    </tr>\n",
       "  </thead>\n",
       "  <tbody>\n",
       "    <tr>\n",
       "      <th>0</th>\n",
       "      <td>1</td>\n",
       "      <td>7</td>\n",
       "      <td>11</td>\n",
       "      <td>9084.45</td>\n",
       "      <td>5</td>\n",
       "      <td>5</td>\n",
       "      <td>5</td>\n",
       "      <td>555</td>\n",
       "      <td>Champions</td>\n",
       "      <td>NSW</td>\n",
       "      <td>64</td>\n",
       "      <td>Pre-Retirement Age(55-64)</td>\n",
       "      <td>110.56</td>\n",
       "    </tr>\n",
       "    <tr>\n",
       "      <th>1</th>\n",
       "      <td>1</td>\n",
       "      <td>7</td>\n",
       "      <td>11</td>\n",
       "      <td>9084.45</td>\n",
       "      <td>5</td>\n",
       "      <td>5</td>\n",
       "      <td>5</td>\n",
       "      <td>555</td>\n",
       "      <td>Champions</td>\n",
       "      <td>NSW</td>\n",
       "      <td>64</td>\n",
       "      <td>Pre-Retirement Age(55-64)</td>\n",
       "      <td>751.02</td>\n",
       "    </tr>\n",
       "  </tbody>\n",
       "</table>\n",
       "</div>"
      ],
      "text/plain": [
       "   customer_id  recency  frequency  monetary  r_score  f_score  m_score  \\\n",
       "0            1        7         11   9084.45        5        5        5   \n",
       "1            1        7         11   9084.45        5        5        5   \n",
       "\n",
       "   rfm_score    Segment state  age                  age_group  profit  \n",
       "0        555  Champions   NSW   64  Pre-Retirement Age(55-64)  110.56  \n",
       "1        555  Champions   NSW   64  Pre-Retirement Age(55-64)  751.02  "
      ]
     },
     "execution_count": 94,
     "metadata": {},
     "output_type": "execute_result"
    }
   ],
   "source": [
    "rfm_updated.head(2)"
   ]
  },
  {
   "cell_type": "code",
   "execution_count": 98,
   "metadata": {},
   "outputs": [],
   "source": [
    "total_profit = rfm_updated.groupby('age_group', observed=False).agg({'profit':'sum'})"
   ]
  },
  {
   "cell_type": "code",
   "execution_count": 99,
   "metadata": {},
   "outputs": [
    {
     "data": {
      "text/html": [
       "<div>\n",
       "<style scoped>\n",
       "    .dataframe tbody tr th:only-of-type {\n",
       "        vertical-align: middle;\n",
       "    }\n",
       "\n",
       "    .dataframe tbody tr th {\n",
       "        vertical-align: top;\n",
       "    }\n",
       "\n",
       "    .dataframe thead th {\n",
       "        text-align: right;\n",
       "    }\n",
       "</style>\n",
       "<table border=\"1\" class=\"dataframe\">\n",
       "  <thead>\n",
       "    <tr style=\"text-align: right;\">\n",
       "      <th></th>\n",
       "      <th>profit</th>\n",
       "    </tr>\n",
       "    <tr>\n",
       "      <th>age_group</th>\n",
       "      <th></th>\n",
       "    </tr>\n",
       "  </thead>\n",
       "  <tbody>\n",
       "    <tr>\n",
       "      <th>Teens(0-18)</th>\n",
       "      <td>229477.74</td>\n",
       "    </tr>\n",
       "    <tr>\n",
       "      <th>Young Adults(19-25)</th>\n",
       "      <td>1415174.07</td>\n",
       "    </tr>\n",
       "    <tr>\n",
       "      <th>Early Career Age(26-35)</th>\n",
       "      <td>1814447.83</td>\n",
       "    </tr>\n",
       "    <tr>\n",
       "      <th>Established Career Age(36-45)</th>\n",
       "      <td>3641887.80</td>\n",
       "    </tr>\n",
       "    <tr>\n",
       "      <th>Middle Age(46-55)</th>\n",
       "      <td>1915766.97</td>\n",
       "    </tr>\n",
       "    <tr>\n",
       "      <th>Pre-Retirement Age(55-64)</th>\n",
       "      <td>1609273.09</td>\n",
       "    </tr>\n",
       "    <tr>\n",
       "      <th>Elderly(65+)</th>\n",
       "      <td>17308.68</td>\n",
       "    </tr>\n",
       "  </tbody>\n",
       "</table>\n",
       "</div>"
      ],
      "text/plain": [
       "                                   profit\n",
       "age_group                                \n",
       "Teens(0-18)                     229477.74\n",
       "Young Adults(19-25)            1415174.07\n",
       "Early Career Age(26-35)        1814447.83\n",
       "Established Career Age(36-45)  3641887.80\n",
       "Middle Age(46-55)              1915766.97\n",
       "Pre-Retirement Age(55-64)      1609273.09\n",
       "Elderly(65+)                     17308.68"
      ]
     },
     "execution_count": 99,
     "metadata": {},
     "output_type": "execute_result"
    }
   ],
   "source": [
    "total_profit"
   ]
  },
  {
   "cell_type": "code",
   "execution_count": 100,
   "metadata": {},
   "outputs": [
    {
     "data": {
      "text/plain": [
       "pandas.core.frame.DataFrame"
      ]
     },
     "execution_count": 100,
     "metadata": {},
     "output_type": "execute_result"
    }
   ],
   "source": [
    "type(total_profit)"
   ]
  },
  {
   "cell_type": "markdown",
   "metadata": {},
   "source": [
    "### Plot"
   ]
  },
  {
   "cell_type": "code",
   "execution_count": 102,
   "metadata": {},
   "outputs": [
    {
     "data": {
      "image/png": "[encoded data removed]",
      "text/plain": [
       "<IPython.core.display.Image object>"
      ]
     },
     "execution_count": 102,
     "metadata": {},
     "output_type": "execute_result"
    }
   ],
   "source": [
    "# Plot\n",
    "\n",
    "fig = px.bar(total_profit, orientation='h')\n",
    "\n",
    "# Update the layout to include axis labels\n",
    "fig.update_layout(\n",
    "    xaxis_title='Age Group',\n",
    "    yaxis_title='Profit Aggregates',\n",
    "    title= 'Profit by Age Groups',\n",
    "    showlegend= False\n",
    ")\n",
    "\n",
    "# fig.show()\n",
    "\n",
    "# Save the figure as a static image\n",
    "pio.write_image(fig, 'profits_by_age.png')\n",
    "\n",
    "# Display the image in the notebook\n",
    "\n",
    "Image('profits_by_age.png')\n",
    "\n"
   ]
  },
  {
   "cell_type": "markdown",
   "metadata": {},
   "source": [
    "# 5. Profit by Industry\n"
   ]
  },
  {
   "cell_type": "code",
   "execution_count": 103,
   "metadata": {},
   "outputs": [],
   "source": [
    "# Merge industry from customer demography to rfm updated\n",
    "rfm_updated = pd.merge(rfm_updated, custdemo_data[['customer_id', 'job_industry_category']], on= 'customer_id')"
   ]
  },
  {
   "cell_type": "code",
   "execution_count": 104,
   "metadata": {},
   "outputs": [],
   "source": [
    "# Group by industry\n",
    "grouped_by_industry = rfm_updated.groupby('job_industry_category')\n",
    "\n",
    "# Industry wise profit\n",
    "profit_by_industry = grouped_by_industry.agg({'profit': 'sum'})\n"
   ]
  },
  {
   "cell_type": "code",
   "execution_count": 105,
   "metadata": {},
   "outputs": [
    {
     "data": {
      "text/html": [
       "<div>\n",
       "<style scoped>\n",
       "    .dataframe tbody tr th:only-of-type {\n",
       "        vertical-align: middle;\n",
       "    }\n",
       "\n",
       "    .dataframe tbody tr th {\n",
       "        vertical-align: top;\n",
       "    }\n",
       "\n",
       "    .dataframe thead th {\n",
       "        text-align: right;\n",
       "    }\n",
       "</style>\n",
       "<table border=\"1\" class=\"dataframe\">\n",
       "  <thead>\n",
       "    <tr style=\"text-align: right;\">\n",
       "      <th></th>\n",
       "      <th>job_industry_category</th>\n",
       "      <th>profit</th>\n",
       "    </tr>\n",
       "  </thead>\n",
       "  <tbody>\n",
       "    <tr>\n",
       "      <th>0</th>\n",
       "      <td>Argiculture</td>\n",
       "      <td>302991.35</td>\n",
       "    </tr>\n",
       "    <tr>\n",
       "      <th>1</th>\n",
       "      <td>Entertainment</td>\n",
       "      <td>386109.45</td>\n",
       "    </tr>\n",
       "    <tr>\n",
       "      <th>2</th>\n",
       "      <td>Financial Services</td>\n",
       "      <td>2130202.25</td>\n",
       "    </tr>\n",
       "    <tr>\n",
       "      <th>3</th>\n",
       "      <td>Health</td>\n",
       "      <td>1652593.94</td>\n",
       "    </tr>\n",
       "    <tr>\n",
       "      <th>4</th>\n",
       "      <td>IT</td>\n",
       "      <td>378981.32</td>\n",
       "    </tr>\n",
       "    <tr>\n",
       "      <th>5</th>\n",
       "      <td>Manufacturing</td>\n",
       "      <td>2159586.03</td>\n",
       "    </tr>\n",
       "    <tr>\n",
       "      <th>6</th>\n",
       "      <td>Property</td>\n",
       "      <td>700139.25</td>\n",
       "    </tr>\n",
       "    <tr>\n",
       "      <th>7</th>\n",
       "      <td>Retail</td>\n",
       "      <td>982011.36</td>\n",
       "    </tr>\n",
       "    <tr>\n",
       "      <th>8</th>\n",
       "      <td>Telecommunications</td>\n",
       "      <td>187400.01</td>\n",
       "    </tr>\n",
       "    <tr>\n",
       "      <th>9</th>\n",
       "      <td>Unknown category</td>\n",
       "      <td>1768146.81</td>\n",
       "    </tr>\n",
       "  </tbody>\n",
       "</table>\n",
       "</div>"
      ],
      "text/plain": [
       "  job_industry_category      profit\n",
       "0           Argiculture   302991.35\n",
       "1         Entertainment   386109.45\n",
       "2    Financial Services  2130202.25\n",
       "3                Health  1652593.94\n",
       "4                    IT   378981.32\n",
       "5         Manufacturing  2159586.03\n",
       "6              Property   700139.25\n",
       "7                Retail   982011.36\n",
       "8    Telecommunications   187400.01\n",
       "9      Unknown category  1768146.81"
      ]
     },
     "execution_count": 105,
     "metadata": {},
     "output_type": "execute_result"
    }
   ],
   "source": [
    "profit_by_industry.reset_index()"
   ]
  },
  {
   "cell_type": "code",
   "execution_count": 110,
   "metadata": {},
   "outputs": [
    {
     "data": {
      "image/png": "[encoded data removed]",
      "text/plain": [
       "<IPython.core.display.Image object>"
      ]
     },
     "execution_count": 110,
     "metadata": {},
     "output_type": "execute_result"
    }
   ],
   "source": [
    "# Plot the profit\n",
    "data = pd.DataFrame(profit_by_industry)\n",
    "\n",
    "\n",
    "fig = px.bar(profit_by_industry, orientation='h')\n",
    "fig.update_layout(\n",
    "    xaxis_title= 'Profit',\n",
    "    yaxis_title= 'Industry',\n",
    "    title= 'Industry-wise Profit',\n",
    "    showlegend= False\n",
    ")\n",
    "# fig.show()\n",
    "\n",
    "# Save the figure as a static image\n",
    "pio.write_image(fig, 'profits_by_industry.png')\n",
    "\n",
    "# Display the image in the notebook\n",
    "\n",
    "Image('profits_by_industry.png')"
   ]
  },
  {
   "cell_type": "markdown",
   "metadata": {},
   "source": [
    "# Profit by Segments"
   ]
  },
  {
   "cell_type": "code",
   "execution_count": 111,
   "metadata": {},
   "outputs": [],
   "source": [
    "segmentwise_profit = rfm_updated.groupby('Segment').agg({'profit':'sum'})"
   ]
  },
  {
   "cell_type": "code",
   "execution_count": 115,
   "metadata": {},
   "outputs": [
    {
     "data": {
      "text/html": [
       "<div>\n",
       "<style scoped>\n",
       "    .dataframe tbody tr th:only-of-type {\n",
       "        vertical-align: middle;\n",
       "    }\n",
       "\n",
       "    .dataframe tbody tr th {\n",
       "        vertical-align: top;\n",
       "    }\n",
       "\n",
       "    .dataframe thead th {\n",
       "        text-align: right;\n",
       "    }\n",
       "</style>\n",
       "<table border=\"1\" class=\"dataframe\">\n",
       "  <thead>\n",
       "    <tr style=\"text-align: right;\">\n",
       "      <th></th>\n",
       "      <th>profit</th>\n",
       "    </tr>\n",
       "    <tr>\n",
       "      <th>Segment</th>\n",
       "      <th></th>\n",
       "    </tr>\n",
       "  </thead>\n",
       "  <tbody>\n",
       "    <tr>\n",
       "      <th>At Risk</th>\n",
       "      <td>805919.74</td>\n",
       "    </tr>\n",
       "    <tr>\n",
       "      <th>Average Customers</th>\n",
       "      <td>2905449.30</td>\n",
       "    </tr>\n",
       "    <tr>\n",
       "      <th>Champions</th>\n",
       "      <td>720996.22</td>\n",
       "    </tr>\n",
       "    <tr>\n",
       "      <th>Lost Customers</th>\n",
       "      <td>2469493.28</td>\n",
       "    </tr>\n",
       "    <tr>\n",
       "      <th>Loyal Customers</th>\n",
       "      <td>1268087.20</td>\n",
       "    </tr>\n",
       "    <tr>\n",
       "      <th>New Customers</th>\n",
       "      <td>1154205.22</td>\n",
       "    </tr>\n",
       "    <tr>\n",
       "      <th>Potential Loyalists</th>\n",
       "      <td>1324010.81</td>\n",
       "    </tr>\n",
       "  </tbody>\n",
       "</table>\n",
       "</div>"
      ],
      "text/plain": [
       "                         profit\n",
       "Segment                        \n",
       " At Risk              805919.74\n",
       "Average Customers    2905449.30\n",
       "Champions             720996.22\n",
       "Lost Customers       2469493.28\n",
       "Loyal Customers      1268087.20\n",
       "New Customers        1154205.22\n",
       "Potential Loyalists  1324010.81"
      ]
     },
     "execution_count": 115,
     "metadata": {},
     "output_type": "execute_result"
    }
   ],
   "source": [
    "segmentwise_profit"
   ]
  },
  {
   "cell_type": "code",
   "execution_count": 114,
   "metadata": {},
   "outputs": [
    {
     "data": {
      "image/png": "[encoded data removed]",
      "text/plain": [
       "<IPython.core.display.Image object>"
      ]
     },
     "execution_count": 114,
     "metadata": {},
     "output_type": "execute_result"
    }
   ],
   "source": [
    "# Plot\n",
    "fig = px.bar(segmentwise_profit, orientation='h')\n",
    "fig.update_layout(\n",
    "    xaxis_title= 'Profit',\n",
    "    yaxis_title= 'Customer Segments',\n",
    "    title= 'Profits by Customer Segmentation',\n",
    "    showlegend= False\n",
    ")\n",
    "# fig.show()\n",
    "\n",
    "# Save the figure as a static image\n",
    "pio.write_image(fig, 'profits_by_segments.png')\n",
    "\n",
    "# Display the image in the notebook\n",
    "\n",
    "Image('profits_by_segments.png')"
   ]
  }
 ],
 "metadata": {
  "kernelspec": {
   "display_name": "custseg",
   "language": "python",
   "name": "python3"
  },
  "language_info": {
   "codemirror_mode": {
    "name": "ipython",
    "version": 3
   },
   "file_extension": ".py",
   "mimetype": "text/x-python",
   "name": "python",
   "nbconvert_exporter": "python",
   "pygments_lexer": "ipython3",
   "version": "3.12.4"
  }
 },
 "nbformat": 4,
 "nbformat_minor": 2
}
